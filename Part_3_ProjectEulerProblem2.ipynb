{
 "cells": [
  {
   "cell_type": "code",
   "execution_count": 1,
   "id": "2d3ebf05-5d27-462f-90e2-0deb1dd08789",
   "metadata": {},
   "outputs": [
    {
     "name": "stdout",
     "output_type": "stream",
     "text": [
      "Sum of even Fibonacci numbers ≤ 4,000,000: 4613732\n"
     ]
    }
   ],
   "source": [
    "# === Cell: Euler Problem 2 (Even Fibonacci Sum) ===\n",
    "def even_fib_sum(limit: int = 4_000_000) -> int:\n",
    "    \"\"\"Sum of even Fibonacci numbers not exceeding 'limit' using the E_{k+1}=4E_k+E_{k-1} trick.\"\"\"\n",
    "    # E0=2, E1=8 are the first two even Fibonacci numbers (F3=2, F6=8, ...)\n",
    "    e_prev, e_curr = 2, 8\n",
    "    total = e_prev\n",
    "    if e_curr <= limit:\n",
    "        total += e_curr\n",
    "\n",
    "    while True:\n",
    "        e_next = 4 * e_curr + e_prev\n",
    "        if e_next > limit:\n",
    "            break\n",
    "        total += e_next\n",
    "        e_prev, e_curr = e_curr, e_next\n",
    "    return total\n",
    "\n",
    "# Sanity check against a slow but clear generator (small limit)\n",
    "def _naive_even_fib_sum(limit: int) -> int:\n",
    "    a, b, s = 1, 2, 0\n",
    "    while a <= limit:\n",
    "        if (a & 1) == 0:  # faster even-check\n",
    "            s += a\n",
    "        a, b = b, a + b\n",
    "    return s\n",
    "\n",
    "# Quick self-test on a smaller bound to avoid surprises\n",
    "assert _naive_even_fib_sum(100_000) == even_fib_sum(100_000)\n",
    "\n",
    "answer = even_fib_sum(4_000_000)\n",
    "print(\"Sum of even Fibonacci numbers ≤ 4,000,000:\", answer)\n"
   ]
  }
 ],
 "metadata": {
  "kernelspec": {
   "display_name": "Python 3 (ipykernel)",
   "language": "python",
   "name": "python3"
  },
  "language_info": {
   "codemirror_mode": {
    "name": "ipython",
    "version": 3
   },
   "file_extension": ".py",
   "mimetype": "text/x-python",
   "name": "python",
   "nbconvert_exporter": "python",
   "pygments_lexer": "ipython3",
   "version": "3.13.2"
  }
 },
 "nbformat": 4,
 "nbformat_minor": 5
}
